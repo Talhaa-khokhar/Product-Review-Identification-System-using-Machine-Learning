{
 "cells": [
  {
   "cell_type": "code",
   "execution_count": 1,
   "id": "1b624da8",
   "metadata": {},
   "outputs": [],
   "source": [
    "import pandas as pd\n",
    "import seaborn as sns\n",
    "import matplotlib.pyplot as plt\n",
    "from sklearn.tree import DecisionTreeClassifier\n",
    "from sklearn.preprocessing import LabelEncoder\n",
    "from sklearn.feature_extraction.text import CountVectorizer\n",
    "from sklearn.model_selection import train_test_split\n",
    "from sklearn.naive_bayes import MultinomialNB\n",
    "from sklearn.metrics import accuracy_score, classification_report"
   ]
  },
  {
   "cell_type": "code",
   "execution_count": 2,
   "id": "9b9d8c14",
   "metadata": {},
   "outputs": [],
   "source": [
    "# Load data\n",
    "data = pd.read_csv('fake reviews dataset.csv')\n"
   ]
  },
  {
   "cell_type": "code",
   "execution_count": 3,
   "id": "61a783cb",
   "metadata": {},
   "outputs": [
    {
     "name": "stdout",
     "output_type": "stream",
     "text": [
      "The dataset contains 40432 rows and 4 columns\n"
     ]
    }
   ],
   "source": [
    "rows, cols = data.shape\n",
    "print(\"The dataset contains\",rows,\"rows and\",cols,\"columns\" )"
   ]
  },
  {
   "cell_type": "code",
   "execution_count": 37,
   "id": "caf9669d",
   "metadata": {
    "scrolled": true
   },
   "outputs": [
    {
     "data": {
      "text/html": [
       "<div>\n",
       "<style scoped>\n",
       "    .dataframe tbody tr th:only-of-type {\n",
       "        vertical-align: middle;\n",
       "    }\n",
       "\n",
       "    .dataframe tbody tr th {\n",
       "        vertical-align: top;\n",
       "    }\n",
       "\n",
       "    .dataframe thead th {\n",
       "        text-align: right;\n",
       "    }\n",
       "</style>\n",
       "<table border=\"1\" class=\"dataframe\">\n",
       "  <thead>\n",
       "    <tr style=\"text-align: right;\">\n",
       "      <th></th>\n",
       "      <th>category</th>\n",
       "      <th>rating</th>\n",
       "      <th>label</th>\n",
       "      <th>text_</th>\n",
       "      <th>length</th>\n",
       "    </tr>\n",
       "  </thead>\n",
       "  <tbody>\n",
       "    <tr>\n",
       "      <th>0</th>\n",
       "      <td>Home_and_Kitchen_5</td>\n",
       "      <td>5.0</td>\n",
       "      <td>CG</td>\n",
       "      <td>Love this!  Well made, sturdy, and very comfor...</td>\n",
       "      <td>75</td>\n",
       "    </tr>\n",
       "    <tr>\n",
       "      <th>1</th>\n",
       "      <td>Home_and_Kitchen_5</td>\n",
       "      <td>5.0</td>\n",
       "      <td>CG</td>\n",
       "      <td>love it, a great upgrade from the original.  I...</td>\n",
       "      <td>80</td>\n",
       "    </tr>\n",
       "    <tr>\n",
       "      <th>2</th>\n",
       "      <td>Home_and_Kitchen_5</td>\n",
       "      <td>5.0</td>\n",
       "      <td>CG</td>\n",
       "      <td>This pillow saved my back. I love the look and...</td>\n",
       "      <td>67</td>\n",
       "    </tr>\n",
       "    <tr>\n",
       "      <th>3</th>\n",
       "      <td>Home_and_Kitchen_5</td>\n",
       "      <td>1.0</td>\n",
       "      <td>CG</td>\n",
       "      <td>Missing information on how to use it, but it i...</td>\n",
       "      <td>81</td>\n",
       "    </tr>\n",
       "    <tr>\n",
       "      <th>4</th>\n",
       "      <td>Home_and_Kitchen_5</td>\n",
       "      <td>5.0</td>\n",
       "      <td>CG</td>\n",
       "      <td>Very nice set. Good quality. We have had the s...</td>\n",
       "      <td>85</td>\n",
       "    </tr>\n",
       "  </tbody>\n",
       "</table>\n",
       "</div>"
      ],
      "text/plain": [
       "             category  rating label  \\\n",
       "0  Home_and_Kitchen_5     5.0    CG   \n",
       "1  Home_and_Kitchen_5     5.0    CG   \n",
       "2  Home_and_Kitchen_5     5.0    CG   \n",
       "3  Home_and_Kitchen_5     1.0    CG   \n",
       "4  Home_and_Kitchen_5     5.0    CG   \n",
       "\n",
       "                                               text_  length  \n",
       "0  Love this!  Well made, sturdy, and very comfor...      75  \n",
       "1  love it, a great upgrade from the original.  I...      80  \n",
       "2  This pillow saved my back. I love the look and...      67  \n",
       "3  Missing information on how to use it, but it i...      81  \n",
       "4  Very nice set. Good quality. We have had the s...      85  "
      ]
     },
     "execution_count": 37,
     "metadata": {},
     "output_type": "execute_result"
    }
   ],
   "source": [
    "data.head()"
   ]
  },
  {
   "cell_type": "code",
   "execution_count": 5,
   "id": "ebe0b4b0",
   "metadata": {},
   "outputs": [
    {
     "name": "stdout",
     "output_type": "stream",
     "text": [
      "<class 'pandas.core.frame.DataFrame'>\n",
      "RangeIndex: 40432 entries, 0 to 40431\n",
      "Data columns (total 4 columns):\n",
      " #   Column    Non-Null Count  Dtype  \n",
      "---  ------    --------------  -----  \n",
      " 0   category  40432 non-null  object \n",
      " 1   rating    40432 non-null  float64\n",
      " 2   label     40432 non-null  object \n",
      " 3   text_     40432 non-null  object \n",
      "dtypes: float64(1), object(3)\n",
      "memory usage: 1.2+ MB\n"
     ]
    }
   ],
   "source": [
    "data.info()"
   ]
  },
  {
   "cell_type": "code",
   "execution_count": 39,
   "id": "20e65bbd",
   "metadata": {},
   "outputs": [
    {
     "data": {
      "text/html": [
       "<div>\n",
       "<style scoped>\n",
       "    .dataframe tbody tr th:only-of-type {\n",
       "        vertical-align: middle;\n",
       "    }\n",
       "\n",
       "    .dataframe tbody tr th {\n",
       "        vertical-align: top;\n",
       "    }\n",
       "\n",
       "    .dataframe thead th {\n",
       "        text-align: right;\n",
       "    }\n",
       "</style>\n",
       "<table border=\"1\" class=\"dataframe\">\n",
       "  <thead>\n",
       "    <tr style=\"text-align: right;\">\n",
       "      <th></th>\n",
       "      <th>rating</th>\n",
       "      <th>length</th>\n",
       "    </tr>\n",
       "  </thead>\n",
       "  <tbody>\n",
       "    <tr>\n",
       "      <th>count</th>\n",
       "      <td>40432.000000</td>\n",
       "      <td>40432.000000</td>\n",
       "    </tr>\n",
       "    <tr>\n",
       "      <th>mean</th>\n",
       "      <td>4.256579</td>\n",
       "      <td>351.271963</td>\n",
       "    </tr>\n",
       "    <tr>\n",
       "      <th>std</th>\n",
       "      <td>1.144354</td>\n",
       "      <td>369.813570</td>\n",
       "    </tr>\n",
       "    <tr>\n",
       "      <th>min</th>\n",
       "      <td>1.000000</td>\n",
       "      <td>24.000000</td>\n",
       "    </tr>\n",
       "    <tr>\n",
       "      <th>25%</th>\n",
       "      <td>4.000000</td>\n",
       "      <td>107.000000</td>\n",
       "    </tr>\n",
       "    <tr>\n",
       "      <th>50%</th>\n",
       "      <td>5.000000</td>\n",
       "      <td>198.000000</td>\n",
       "    </tr>\n",
       "    <tr>\n",
       "      <th>75%</th>\n",
       "      <td>5.000000</td>\n",
       "      <td>439.000000</td>\n",
       "    </tr>\n",
       "    <tr>\n",
       "      <th>max</th>\n",
       "      <td>5.000000</td>\n",
       "      <td>2827.000000</td>\n",
       "    </tr>\n",
       "  </tbody>\n",
       "</table>\n",
       "</div>"
      ],
      "text/plain": [
       "             rating        length\n",
       "count  40432.000000  40432.000000\n",
       "mean       4.256579    351.271963\n",
       "std        1.144354    369.813570\n",
       "min        1.000000     24.000000\n",
       "25%        4.000000    107.000000\n",
       "50%        5.000000    198.000000\n",
       "75%        5.000000    439.000000\n",
       "max        5.000000   2827.000000"
      ]
     },
     "execution_count": 39,
     "metadata": {},
     "output_type": "execute_result"
    }
   ],
   "source": [
    "data.describe()"
   ]
  },
  {
   "cell_type": "code",
   "execution_count": 40,
   "id": "c08f3b9f",
   "metadata": {},
   "outputs": [
    {
     "name": "stdout",
     "output_type": "stream",
     "text": [
      "<class 'pandas.core.frame.DataFrame'>\n",
      "Int64Index: 40432 entries, 0 to 40431\n",
      "Data columns (total 5 columns):\n",
      " #   Column    Non-Null Count  Dtype  \n",
      "---  ------    --------------  -----  \n",
      " 0   category  40432 non-null  object \n",
      " 1   rating    40432 non-null  float64\n",
      " 2   label     40432 non-null  object \n",
      " 3   text_     40432 non-null  object \n",
      " 4   length    40432 non-null  int64  \n",
      "dtypes: float64(1), int64(1), object(3)\n",
      "memory usage: 2.9+ MB\n"
     ]
    }
   ],
   "source": [
    "data.info()"
   ]
  },
  {
   "cell_type": "code",
   "execution_count": 42,
   "id": "e8234de1",
   "metadata": {
    "scrolled": true
   },
   "outputs": [
    {
     "data": {
      "text/html": [
       "<div>\n",
       "<style scoped>\n",
       "    .dataframe tbody tr th:only-of-type {\n",
       "        vertical-align: middle;\n",
       "    }\n",
       "\n",
       "    .dataframe tbody tr th {\n",
       "        vertical-align: top;\n",
       "    }\n",
       "\n",
       "    .dataframe thead th {\n",
       "        text-align: right;\n",
       "    }\n",
       "</style>\n",
       "<table border=\"1\" class=\"dataframe\">\n",
       "  <thead>\n",
       "    <tr style=\"text-align: right;\">\n",
       "      <th></th>\n",
       "      <th>category</th>\n",
       "      <th>rating</th>\n",
       "      <th>label</th>\n",
       "      <th>text_</th>\n",
       "      <th>length</th>\n",
       "    </tr>\n",
       "  </thead>\n",
       "  <tbody>\n",
       "    <tr>\n",
       "      <th>0</th>\n",
       "      <td>Home_and_Kitchen_5</td>\n",
       "      <td>5.0</td>\n",
       "      <td>CG</td>\n",
       "      <td>Love this!  Well made, sturdy, and very comfor...</td>\n",
       "      <td>75</td>\n",
       "    </tr>\n",
       "    <tr>\n",
       "      <th>1</th>\n",
       "      <td>Home_and_Kitchen_5</td>\n",
       "      <td>5.0</td>\n",
       "      <td>CG</td>\n",
       "      <td>love it, a great upgrade from the original.  I...</td>\n",
       "      <td>80</td>\n",
       "    </tr>\n",
       "    <tr>\n",
       "      <th>2</th>\n",
       "      <td>Home_and_Kitchen_5</td>\n",
       "      <td>5.0</td>\n",
       "      <td>CG</td>\n",
       "      <td>This pillow saved my back. I love the look and...</td>\n",
       "      <td>67</td>\n",
       "    </tr>\n",
       "    <tr>\n",
       "      <th>3</th>\n",
       "      <td>Home_and_Kitchen_5</td>\n",
       "      <td>1.0</td>\n",
       "      <td>CG</td>\n",
       "      <td>Missing information on how to use it, but it i...</td>\n",
       "      <td>81</td>\n",
       "    </tr>\n",
       "    <tr>\n",
       "      <th>4</th>\n",
       "      <td>Home_and_Kitchen_5</td>\n",
       "      <td>5.0</td>\n",
       "      <td>CG</td>\n",
       "      <td>Very nice set. Good quality. We have had the s...</td>\n",
       "      <td>85</td>\n",
       "    </tr>\n",
       "    <tr>\n",
       "      <th>5</th>\n",
       "      <td>Home_and_Kitchen_5</td>\n",
       "      <td>3.0</td>\n",
       "      <td>CG</td>\n",
       "      <td>I WANTED DIFFERENT FLAVORS BUT THEY ARE NOT.</td>\n",
       "      <td>44</td>\n",
       "    </tr>\n",
       "    <tr>\n",
       "      <th>6</th>\n",
       "      <td>Home_and_Kitchen_5</td>\n",
       "      <td>5.0</td>\n",
       "      <td>CG</td>\n",
       "      <td>They are the perfect touch for me and the only...</td>\n",
       "      <td>89</td>\n",
       "    </tr>\n",
       "    <tr>\n",
       "      <th>7</th>\n",
       "      <td>Home_and_Kitchen_5</td>\n",
       "      <td>3.0</td>\n",
       "      <td>CG</td>\n",
       "      <td>These done fit well and look great.  I love th...</td>\n",
       "      <td>85</td>\n",
       "    </tr>\n",
       "    <tr>\n",
       "      <th>8</th>\n",
       "      <td>Home_and_Kitchen_5</td>\n",
       "      <td>5.0</td>\n",
       "      <td>CG</td>\n",
       "      <td>Great big numbers &amp; easy to read, the only thi...</td>\n",
       "      <td>81</td>\n",
       "    </tr>\n",
       "    <tr>\n",
       "      <th>9</th>\n",
       "      <td>Home_and_Kitchen_5</td>\n",
       "      <td>5.0</td>\n",
       "      <td>CG</td>\n",
       "      <td>My son loves this comforter and it is very wel...</td>\n",
       "      <td>74</td>\n",
       "    </tr>\n",
       "    <tr>\n",
       "      <th>10</th>\n",
       "      <td>Home_and_Kitchen_5</td>\n",
       "      <td>5.0</td>\n",
       "      <td>CG</td>\n",
       "      <td>As advertised. 5th one I've had. The only prob...</td>\n",
       "      <td>75</td>\n",
       "    </tr>\n",
       "    <tr>\n",
       "      <th>11</th>\n",
       "      <td>Home_and_Kitchen_5</td>\n",
       "      <td>5.0</td>\n",
       "      <td>CG</td>\n",
       "      <td>Very handy for one of my kids and the tools ar...</td>\n",
       "      <td>86</td>\n",
       "    </tr>\n",
       "    <tr>\n",
       "      <th>12</th>\n",
       "      <td>Home_and_Kitchen_5</td>\n",
       "      <td>5.0</td>\n",
       "      <td>CG</td>\n",
       "      <td>Did someone say, \"Oriental for $60\"?  It is a ...</td>\n",
       "      <td>67</td>\n",
       "    </tr>\n",
       "    <tr>\n",
       "      <th>13</th>\n",
       "      <td>Home_and_Kitchen_5</td>\n",
       "      <td>1.0</td>\n",
       "      <td>CG</td>\n",
       "      <td>These are so flimsy! They are not the quality ...</td>\n",
       "      <td>89</td>\n",
       "    </tr>\n",
       "    <tr>\n",
       "      <th>14</th>\n",
       "      <td>Home_and_Kitchen_5</td>\n",
       "      <td>5.0</td>\n",
       "      <td>CG</td>\n",
       "      <td>Makes may tea with out stirring. The only prob...</td>\n",
       "      <td>82</td>\n",
       "    </tr>\n",
       "    <tr>\n",
       "      <th>15</th>\n",
       "      <td>Home_and_Kitchen_5</td>\n",
       "      <td>5.0</td>\n",
       "      <td>CG</td>\n",
       "      <td>Absolutely adorable! And excellent price. We h...</td>\n",
       "      <td>99</td>\n",
       "    </tr>\n",
       "    <tr>\n",
       "      <th>16</th>\n",
       "      <td>Home_and_Kitchen_5</td>\n",
       "      <td>5.0</td>\n",
       "      <td>CG</td>\n",
       "      <td>Love this!  Perfect size for an entire family!...</td>\n",
       "      <td>64</td>\n",
       "    </tr>\n",
       "    <tr>\n",
       "      <th>17</th>\n",
       "      <td>Home_and_Kitchen_5</td>\n",
       "      <td>5.0</td>\n",
       "      <td>CG</td>\n",
       "      <td>These look beautiful and so nice. The only pro...</td>\n",
       "      <td>86</td>\n",
       "    </tr>\n",
       "    <tr>\n",
       "      <th>18</th>\n",
       "      <td>Home_and_Kitchen_5</td>\n",
       "      <td>5.0</td>\n",
       "      <td>CG</td>\n",
       "      <td>Exactly what you would expect. I love the look...</td>\n",
       "      <td>71</td>\n",
       "    </tr>\n",
       "    <tr>\n",
       "      <th>19</th>\n",
       "      <td>Home_and_Kitchen_5</td>\n",
       "      <td>5.0</td>\n",
       "      <td>CG</td>\n",
       "      <td>10 Stars, I would highly recommend this item. ...</td>\n",
       "      <td>67</td>\n",
       "    </tr>\n",
       "  </tbody>\n",
       "</table>\n",
       "</div>"
      ],
      "text/plain": [
       "              category  rating label  \\\n",
       "0   Home_and_Kitchen_5     5.0    CG   \n",
       "1   Home_and_Kitchen_5     5.0    CG   \n",
       "2   Home_and_Kitchen_5     5.0    CG   \n",
       "3   Home_and_Kitchen_5     1.0    CG   \n",
       "4   Home_and_Kitchen_5     5.0    CG   \n",
       "5   Home_and_Kitchen_5     3.0    CG   \n",
       "6   Home_and_Kitchen_5     5.0    CG   \n",
       "7   Home_and_Kitchen_5     3.0    CG   \n",
       "8   Home_and_Kitchen_5     5.0    CG   \n",
       "9   Home_and_Kitchen_5     5.0    CG   \n",
       "10  Home_and_Kitchen_5     5.0    CG   \n",
       "11  Home_and_Kitchen_5     5.0    CG   \n",
       "12  Home_and_Kitchen_5     5.0    CG   \n",
       "13  Home_and_Kitchen_5     1.0    CG   \n",
       "14  Home_and_Kitchen_5     5.0    CG   \n",
       "15  Home_and_Kitchen_5     5.0    CG   \n",
       "16  Home_and_Kitchen_5     5.0    CG   \n",
       "17  Home_and_Kitchen_5     5.0    CG   \n",
       "18  Home_and_Kitchen_5     5.0    CG   \n",
       "19  Home_and_Kitchen_5     5.0    CG   \n",
       "\n",
       "                                                text_  length  \n",
       "0   Love this!  Well made, sturdy, and very comfor...      75  \n",
       "1   love it, a great upgrade from the original.  I...      80  \n",
       "2   This pillow saved my back. I love the look and...      67  \n",
       "3   Missing information on how to use it, but it i...      81  \n",
       "4   Very nice set. Good quality. We have had the s...      85  \n",
       "5        I WANTED DIFFERENT FLAVORS BUT THEY ARE NOT.      44  \n",
       "6   They are the perfect touch for me and the only...      89  \n",
       "7   These done fit well and look great.  I love th...      85  \n",
       "8   Great big numbers & easy to read, the only thi...      81  \n",
       "9   My son loves this comforter and it is very wel...      74  \n",
       "10  As advertised. 5th one I've had. The only prob...      75  \n",
       "11  Very handy for one of my kids and the tools ar...      86  \n",
       "12  Did someone say, \"Oriental for $60\"?  It is a ...      67  \n",
       "13  These are so flimsy! They are not the quality ...      89  \n",
       "14  Makes may tea with out stirring. The only prob...      82  \n",
       "15  Absolutely adorable! And excellent price. We h...      99  \n",
       "16  Love this!  Perfect size for an entire family!...      64  \n",
       "17  These look beautiful and so nice. The only pro...      86  \n",
       "18  Exactly what you would expect. I love the look...      71  \n",
       "19  10 Stars, I would highly recommend this item. ...      67  "
      ]
     },
     "execution_count": 42,
     "metadata": {},
     "output_type": "execute_result"
    }
   ],
   "source": [
    "data.head(20)"
   ]
  },
  {
   "cell_type": "code",
   "execution_count": 43,
   "id": "1a4b90c8",
   "metadata": {},
   "outputs": [
    {
     "data": {
      "text/html": [
       "<div>\n",
       "<style scoped>\n",
       "    .dataframe tbody tr th:only-of-type {\n",
       "        vertical-align: middle;\n",
       "    }\n",
       "\n",
       "    .dataframe tbody tr th {\n",
       "        vertical-align: top;\n",
       "    }\n",
       "\n",
       "    .dataframe thead th {\n",
       "        text-align: right;\n",
       "    }\n",
       "</style>\n",
       "<table border=\"1\" class=\"dataframe\">\n",
       "  <thead>\n",
       "    <tr style=\"text-align: right;\">\n",
       "      <th></th>\n",
       "      <th>category</th>\n",
       "      <th>rating</th>\n",
       "      <th>label</th>\n",
       "      <th>text_</th>\n",
       "      <th>length</th>\n",
       "    </tr>\n",
       "  </thead>\n",
       "  <tbody>\n",
       "    <tr>\n",
       "      <th>40415</th>\n",
       "      <td>Clothing_Shoes_and_Jewelry_5</td>\n",
       "      <td>5.0</td>\n",
       "      <td>OR</td>\n",
       "      <td>I'd consider myself an advanced non-profession...</td>\n",
       "      <td>2054</td>\n",
       "    </tr>\n",
       "    <tr>\n",
       "      <th>40416</th>\n",
       "      <td>Clothing_Shoes_and_Jewelry_5</td>\n",
       "      <td>3.0</td>\n",
       "      <td>CG</td>\n",
       "      <td>When I saw this ring, I thought it was very be...</td>\n",
       "      <td>1344</td>\n",
       "    </tr>\n",
       "    <tr>\n",
       "      <th>40417</th>\n",
       "      <td>Clothing_Shoes_and_Jewelry_5</td>\n",
       "      <td>5.0</td>\n",
       "      <td>OR</td>\n",
       "      <td>I cannot thank my boss enough for recommending...</td>\n",
       "      <td>1857</td>\n",
       "    </tr>\n",
       "    <tr>\n",
       "      <th>40418</th>\n",
       "      <td>Clothing_Shoes_and_Jewelry_5</td>\n",
       "      <td>2.0</td>\n",
       "      <td>CG</td>\n",
       "      <td>This bag weighs exactly 10pounds (I wear an XL...</td>\n",
       "      <td>1344</td>\n",
       "    </tr>\n",
       "    <tr>\n",
       "      <th>40419</th>\n",
       "      <td>Clothing_Shoes_and_Jewelry_5</td>\n",
       "      <td>5.0</td>\n",
       "      <td>OR</td>\n",
       "      <td>Sometimes it is so hard to find a loose comfor...</td>\n",
       "      <td>1731</td>\n",
       "    </tr>\n",
       "    <tr>\n",
       "      <th>40420</th>\n",
       "      <td>Clothing_Shoes_and_Jewelry_5</td>\n",
       "      <td>5.0</td>\n",
       "      <td>CG</td>\n",
       "      <td>I just bought these locally and they are the b...</td>\n",
       "      <td>1389</td>\n",
       "    </tr>\n",
       "    <tr>\n",
       "      <th>40421</th>\n",
       "      <td>Clothing_Shoes_and_Jewelry_5</td>\n",
       "      <td>2.0</td>\n",
       "      <td>OR</td>\n",
       "      <td>I'm a 36B, which means that I don't need any h...</td>\n",
       "      <td>1905</td>\n",
       "    </tr>\n",
       "    <tr>\n",
       "      <th>40422</th>\n",
       "      <td>Clothing_Shoes_and_Jewelry_5</td>\n",
       "      <td>4.0</td>\n",
       "      <td>CG</td>\n",
       "      <td>I wore this from 4pm to 9pm and it was perfect...</td>\n",
       "      <td>1407</td>\n",
       "    </tr>\n",
       "    <tr>\n",
       "      <th>40423</th>\n",
       "      <td>Clothing_Shoes_and_Jewelry_5</td>\n",
       "      <td>4.0</td>\n",
       "      <td>OR</td>\n",
       "      <td>This is a classy looking watch.  I don't get m...</td>\n",
       "      <td>1938</td>\n",
       "    </tr>\n",
       "    <tr>\n",
       "      <th>40424</th>\n",
       "      <td>Clothing_Shoes_and_Jewelry_5</td>\n",
       "      <td>3.0</td>\n",
       "      <td>CG</td>\n",
       "      <td>I kind of feel giving it a 3 star because it's...</td>\n",
       "      <td>1427</td>\n",
       "    </tr>\n",
       "    <tr>\n",
       "      <th>40425</th>\n",
       "      <td>Clothing_Shoes_and_Jewelry_5</td>\n",
       "      <td>5.0</td>\n",
       "      <td>OR</td>\n",
       "      <td>The stated dimensions on the description are o...</td>\n",
       "      <td>1871</td>\n",
       "    </tr>\n",
       "    <tr>\n",
       "      <th>40426</th>\n",
       "      <td>Clothing_Shoes_and_Jewelry_5</td>\n",
       "      <td>5.0</td>\n",
       "      <td>CG</td>\n",
       "      <td>Overall, I love this hat!\\n\\nSize/Color:  9.5/...</td>\n",
       "      <td>1345</td>\n",
       "    </tr>\n",
       "    <tr>\n",
       "      <th>40427</th>\n",
       "      <td>Clothing_Shoes_and_Jewelry_5</td>\n",
       "      <td>4.0</td>\n",
       "      <td>OR</td>\n",
       "      <td>I had read some reviews saying that this bra r...</td>\n",
       "      <td>1694</td>\n",
       "    </tr>\n",
       "    <tr>\n",
       "      <th>40428</th>\n",
       "      <td>Clothing_Shoes_and_Jewelry_5</td>\n",
       "      <td>5.0</td>\n",
       "      <td>CG</td>\n",
       "      <td>I wasn't sure exactly what it would be. It is ...</td>\n",
       "      <td>1304</td>\n",
       "    </tr>\n",
       "    <tr>\n",
       "      <th>40429</th>\n",
       "      <td>Clothing_Shoes_and_Jewelry_5</td>\n",
       "      <td>2.0</td>\n",
       "      <td>OR</td>\n",
       "      <td>You can wear the hood by itself, wear it with ...</td>\n",
       "      <td>1987</td>\n",
       "    </tr>\n",
       "    <tr>\n",
       "      <th>40430</th>\n",
       "      <td>Clothing_Shoes_and_Jewelry_5</td>\n",
       "      <td>1.0</td>\n",
       "      <td>CG</td>\n",
       "      <td>I liked nothing about this dress. The only rea...</td>\n",
       "      <td>1301</td>\n",
       "    </tr>\n",
       "    <tr>\n",
       "      <th>40431</th>\n",
       "      <td>Clothing_Shoes_and_Jewelry_5</td>\n",
       "      <td>5.0</td>\n",
       "      <td>OR</td>\n",
       "      <td>I work in the wedding industry and have to wor...</td>\n",
       "      <td>1768</td>\n",
       "    </tr>\n",
       "  </tbody>\n",
       "</table>\n",
       "</div>"
      ],
      "text/plain": [
       "                           category  rating label  \\\n",
       "40415  Clothing_Shoes_and_Jewelry_5     5.0    OR   \n",
       "40416  Clothing_Shoes_and_Jewelry_5     3.0    CG   \n",
       "40417  Clothing_Shoes_and_Jewelry_5     5.0    OR   \n",
       "40418  Clothing_Shoes_and_Jewelry_5     2.0    CG   \n",
       "40419  Clothing_Shoes_and_Jewelry_5     5.0    OR   \n",
       "40420  Clothing_Shoes_and_Jewelry_5     5.0    CG   \n",
       "40421  Clothing_Shoes_and_Jewelry_5     2.0    OR   \n",
       "40422  Clothing_Shoes_and_Jewelry_5     4.0    CG   \n",
       "40423  Clothing_Shoes_and_Jewelry_5     4.0    OR   \n",
       "40424  Clothing_Shoes_and_Jewelry_5     3.0    CG   \n",
       "40425  Clothing_Shoes_and_Jewelry_5     5.0    OR   \n",
       "40426  Clothing_Shoes_and_Jewelry_5     5.0    CG   \n",
       "40427  Clothing_Shoes_and_Jewelry_5     4.0    OR   \n",
       "40428  Clothing_Shoes_and_Jewelry_5     5.0    CG   \n",
       "40429  Clothing_Shoes_and_Jewelry_5     2.0    OR   \n",
       "40430  Clothing_Shoes_and_Jewelry_5     1.0    CG   \n",
       "40431  Clothing_Shoes_and_Jewelry_5     5.0    OR   \n",
       "\n",
       "                                                   text_  length  \n",
       "40415  I'd consider myself an advanced non-profession...    2054  \n",
       "40416  When I saw this ring, I thought it was very be...    1344  \n",
       "40417  I cannot thank my boss enough for recommending...    1857  \n",
       "40418  This bag weighs exactly 10pounds (I wear an XL...    1344  \n",
       "40419  Sometimes it is so hard to find a loose comfor...    1731  \n",
       "40420  I just bought these locally and they are the b...    1389  \n",
       "40421  I'm a 36B, which means that I don't need any h...    1905  \n",
       "40422  I wore this from 4pm to 9pm and it was perfect...    1407  \n",
       "40423  This is a classy looking watch.  I don't get m...    1938  \n",
       "40424  I kind of feel giving it a 3 star because it's...    1427  \n",
       "40425  The stated dimensions on the description are o...    1871  \n",
       "40426  Overall, I love this hat!\\n\\nSize/Color:  9.5/...    1345  \n",
       "40427  I had read some reviews saying that this bra r...    1694  \n",
       "40428  I wasn't sure exactly what it would be. It is ...    1304  \n",
       "40429  You can wear the hood by itself, wear it with ...    1987  \n",
       "40430  I liked nothing about this dress. The only rea...    1301  \n",
       "40431  I work in the wedding industry and have to wor...    1768  "
      ]
     },
     "execution_count": 43,
     "metadata": {},
     "output_type": "execute_result"
    }
   ],
   "source": [
    "data.tail(17)"
   ]
  },
  {
   "cell_type": "code",
   "execution_count": null,
   "id": "5f1373e0",
   "metadata": {},
   "outputs": [],
   "source": []
  },
  {
   "cell_type": "code",
   "execution_count": null,
   "id": "cb3fa5b4",
   "metadata": {},
   "outputs": [],
   "source": []
  },
  {
   "cell_type": "code",
   "execution_count": null,
   "id": "8242441d",
   "metadata": {},
   "outputs": [],
   "source": []
  },
  {
   "cell_type": "code",
   "execution_count": null,
   "id": "62ec0200",
   "metadata": {},
   "outputs": [],
   "source": []
  },
  {
   "cell_type": "code",
   "execution_count": 6,
   "id": "284e015f",
   "metadata": {},
   "outputs": [
    {
     "data": {
      "text/plain": [
       "161728"
      ]
     },
     "execution_count": 6,
     "metadata": {},
     "output_type": "execute_result"
    }
   ],
   "source": [
    "data.size\n"
   ]
  },
  {
   "cell_type": "code",
   "execution_count": 7,
   "id": "355c1e6f",
   "metadata": {},
   "outputs": [
    {
     "data": {
      "text/plain": [
       "12"
      ]
     },
     "execution_count": 7,
     "metadata": {},
     "output_type": "execute_result"
    }
   ],
   "source": [
    "data.duplicated().sum()"
   ]
  },
  {
   "cell_type": "code",
   "execution_count": 8,
   "id": "c33245fa",
   "metadata": {},
   "outputs": [
    {
     "data": {
      "text/html": [
       "<div>\n",
       "<style scoped>\n",
       "    .dataframe tbody tr th:only-of-type {\n",
       "        vertical-align: middle;\n",
       "    }\n",
       "\n",
       "    .dataframe tbody tr th {\n",
       "        vertical-align: top;\n",
       "    }\n",
       "\n",
       "    .dataframe thead th {\n",
       "        text-align: right;\n",
       "    }\n",
       "</style>\n",
       "<table border=\"1\" class=\"dataframe\">\n",
       "  <thead>\n",
       "    <tr style=\"text-align: right;\">\n",
       "      <th></th>\n",
       "      <th>rating</th>\n",
       "    </tr>\n",
       "  </thead>\n",
       "  <tbody>\n",
       "    <tr>\n",
       "      <th>count</th>\n",
       "      <td>40432.000000</td>\n",
       "    </tr>\n",
       "    <tr>\n",
       "      <th>mean</th>\n",
       "      <td>4.256579</td>\n",
       "    </tr>\n",
       "    <tr>\n",
       "      <th>std</th>\n",
       "      <td>1.144354</td>\n",
       "    </tr>\n",
       "    <tr>\n",
       "      <th>min</th>\n",
       "      <td>1.000000</td>\n",
       "    </tr>\n",
       "    <tr>\n",
       "      <th>25%</th>\n",
       "      <td>4.000000</td>\n",
       "    </tr>\n",
       "    <tr>\n",
       "      <th>50%</th>\n",
       "      <td>5.000000</td>\n",
       "    </tr>\n",
       "    <tr>\n",
       "      <th>75%</th>\n",
       "      <td>5.000000</td>\n",
       "    </tr>\n",
       "    <tr>\n",
       "      <th>max</th>\n",
       "      <td>5.000000</td>\n",
       "    </tr>\n",
       "  </tbody>\n",
       "</table>\n",
       "</div>"
      ],
      "text/plain": [
       "             rating\n",
       "count  40432.000000\n",
       "mean       4.256579\n",
       "std        1.144354\n",
       "min        1.000000\n",
       "25%        4.000000\n",
       "50%        5.000000\n",
       "75%        5.000000\n",
       "max        5.000000"
      ]
     },
     "execution_count": 8,
     "metadata": {},
     "output_type": "execute_result"
    }
   ],
   "source": [
    "data.describe()"
   ]
  },
  {
   "cell_type": "code",
   "execution_count": 9,
   "id": "c375e67f",
   "metadata": {},
   "outputs": [
    {
     "data": {
      "text/plain": [
       "category       10\n",
       "rating          5\n",
       "label           2\n",
       "text_       40412\n",
       "dtype: int64"
      ]
     },
     "execution_count": 9,
     "metadata": {},
     "output_type": "execute_result"
    }
   ],
   "source": [
    "data.nunique()"
   ]
  },
  {
   "cell_type": "code",
   "execution_count": 10,
   "id": "ce6c8c1d",
   "metadata": {},
   "outputs": [
    {
     "data": {
      "text/plain": [
       "category    0\n",
       "rating      0\n",
       "label       0\n",
       "text_       0\n",
       "dtype: int64"
      ]
     },
     "execution_count": 10,
     "metadata": {},
     "output_type": "execute_result"
    }
   ],
   "source": [
    "data.isnull().sum()\n"
   ]
  },
  {
   "cell_type": "code",
   "execution_count": 11,
   "id": "789d5cc0",
   "metadata": {},
   "outputs": [
    {
     "data": {
      "text/plain": [
       "0        love this!  well made, sturdy, and very comfor...\n",
       "1        love it, a great upgrade from the original.  i...\n",
       "2        this pillow saved my back. i love the look and...\n",
       "3        missing information on how to use it, but it i...\n",
       "4        very nice set. good quality. we have had the s...\n",
       "                               ...                        \n",
       "40427    i had read some reviews saying that this bra r...\n",
       "40428    i wasn't sure exactly what it would be. it is ...\n",
       "40429    you can wear the hood by itself, wear it with ...\n",
       "40430    i liked nothing about this dress. the only rea...\n",
       "40431    i work in the wedding industry and have to wor...\n",
       "Name: text_, Length: 40432, dtype: object"
      ]
     },
     "execution_count": 11,
     "metadata": {},
     "output_type": "execute_result"
    }
   ],
   "source": [
    "# Preprocess text\n",
    "data = data.dropna(subset=['text_', 'label'])\n",
    "text = data['text_'].str.lower()\n",
    "text = text.str.replace('[^\\w\\s]','', regex=False) # remove punctuation\n",
    "text = text.str.replace('\\d+', '', regex=False) # remove digits\n",
    "text"
   ]
  },
  {
   "cell_type": "code",
   "execution_count": 12,
   "id": "9cb6aa3b",
   "metadata": {},
   "outputs": [],
   "source": [
    "# Extract features using Bag of Words approach\n",
    "vectorizer = CountVectorizer(stop_words='english')\n",
    "X = vectorizer.fit_transform(text)"
   ]
  },
  {
   "cell_type": "code",
   "execution_count": 13,
   "id": "d889572f",
   "metadata": {},
   "outputs": [
    {
     "data": {
      "text/plain": [
       "<40432x40797 sparse matrix of type '<class 'numpy.int64'>'\n",
       "\twith 925045 stored elements in Compressed Sparse Row format>"
      ]
     },
     "execution_count": 13,
     "metadata": {},
     "output_type": "execute_result"
    }
   ],
   "source": [
    "X"
   ]
  },
  {
   "cell_type": "code",
   "execution_count": 14,
   "id": "c9d5d660",
   "metadata": {},
   "outputs": [],
   "source": [
    "# Split data into training and testing sets\n",
    "X_train, X_test, y_train, y_test = train_test_split(X, data['label'], test_size=0.2, random_state=42)\n"
   ]
  },
  {
   "cell_type": "code",
   "execution_count": 15,
   "id": "0a2355df",
   "metadata": {},
   "outputs": [
    {
     "name": "stdout",
     "output_type": "stream",
     "text": [
      "<class 'scipy.sparse.csr.csr_matrix'> (32345, 40797)\n",
      "<class 'scipy.sparse.csr.csr_matrix'> (8087, 40797)\n",
      "<class 'pandas.core.series.Series'> (32345,)\n",
      "<class 'pandas.core.series.Series'> (8087,)\n"
     ]
    }
   ],
   "source": [
    "print(type(X_train), X_train.shape )\n",
    "print(type(X_test), X_test.shape )\n",
    "\n",
    "print(type(y_train), y_train.shape )\n",
    "print(type(y_test), y_test.shape )"
   ]
  },
  {
   "cell_type": "code",
   "execution_count": 16,
   "id": "4410216d",
   "metadata": {},
   "outputs": [],
   "source": [
    "# Train model\n",
    "model = MultinomialNB()\n",
    "model.fit(X_train, y_train)\n",
    "\n",
    "# Make predictions\n",
    "pred_labels = model.predict(X_test)"
   ]
  },
  {
   "cell_type": "code",
   "execution_count": 17,
   "id": "5c04133b",
   "metadata": {},
   "outputs": [
    {
     "name": "stdout",
     "output_type": "stream",
     "text": [
      "Accuracy:  82.82\n"
     ]
    }
   ],
   "source": [
    "# Evaluate the performance of the model\n",
    "acc = accuracy_score(y_test, pred_labels)\n",
    "acc = round(acc*100,2)\n",
    "print(\"Accuracy: \", acc)"
   ]
  },
  {
   "cell_type": "code",
   "execution_count": 18,
   "id": "767e68a8",
   "metadata": {
    "scrolled": true
   },
   "outputs": [
    {
     "name": "stdout",
     "output_type": "stream",
     "text": [
      "Accuracy:  82.82\n",
      "Classification Report: \n",
      "               precision    recall  f1-score   support\n",
      "\n",
      "          CG       0.79      0.90      0.84      4016\n",
      "          OR       0.88      0.76      0.82      4071\n",
      "\n",
      "    accuracy                           0.83      8087\n",
      "   macro avg       0.83      0.83      0.83      8087\n",
      "weighted avg       0.84      0.83      0.83      8087\n",
      "\n"
     ]
    }
   ],
   "source": [
    "print(\"Accuracy: \", acc)\n",
    "\n",
    "report = classification_report(y_test, pred_labels)\n",
    "print(\"Classification Report: \\n\", report)\n"
   ]
  },
  {
   "cell_type": "code",
   "execution_count": 19,
   "id": "682bf4b1",
   "metadata": {},
   "outputs": [],
   "source": [
    "# Instantiate the decision tree classifier\n",
    "clf = DecisionTreeClassifier(random_state=42)\n",
    "\n",
    "# Fit the classifier to the training data\n",
    "clf.fit(X_train, y_train)\n",
    "\n",
    "# Predict on the test data\n",
    "y_pred = clf.predict(X_test)\n",
    "\n"
   ]
  },
  {
   "cell_type": "code",
   "execution_count": 20,
   "id": "04283b55",
   "metadata": {},
   "outputs": [
    {
     "name": "stdout",
     "output_type": "stream",
     "text": [
      "Accuracy: 0.7170767899097317\n"
     ]
    }
   ],
   "source": [
    "# Evaluate the model\n",
    "print(\"Accuracy:\", clf.score(X_test, y_test))"
   ]
  },
  {
   "cell_type": "code",
   "execution_count": 21,
   "id": "6d1009ed",
   "metadata": {},
   "outputs": [
    {
     "data": {
      "image/png": "[encoded data removed]",
      "text/plain": [
       "<Figure size 432x288 with 1 Axes>"
      ]
     },
     "metadata": {},
     "output_type": "display_data"
    }
   ],
   "source": [
    "# Create a pie chart to show the distribution of labels\n",
    "labels = ['Fake', 'Real']\n",
    "sizes = data['label'].value_counts(normalize=True)\n",
    "fig1, ax1 = plt.subplots()\n",
    "ax1.pie(sizes, labels=labels, autopct='%1.1f%%', startangle=90)\n",
    "ax1.axis('equal') \n",
    "plt.title('Distribution of Labels')\n",
    "plt.show()"
   ]
  },
  {
   "cell_type": "code",
   "execution_count": 22,
   "id": "18544b5f",
   "metadata": {},
   "outputs": [
    {
     "data": {
      "image/png": "[encoded data removed]",
      "text/plain": [
       "<Figure size 432x288 with 1 Axes>"
      ]
     },
     "metadata": {
      "needs_background": "light"
     },
     "output_type": "display_data"
    }
   ],
   "source": [
    "#OR = Original reviews (presumably human created and authentic); CG = Computer-generated fake reviews.\n",
    "\n",
    "\n",
    "import seaborn as sns\n",
    "\n",
    "sns.countplot(x='label', data=data)\n",
    "plt.title('Distribution of Labels')\n",
    "plt.show()\n"
   ]
  },
  {
   "cell_type": "code",
   "execution_count": 23,
   "id": "647063d7",
   "metadata": {},
   "outputs": [
    {
     "data": {
      "text/html": [
       "<div>\n",
       "<style scoped>\n",
       "    .dataframe tbody tr th:only-of-type {\n",
       "        vertical-align: middle;\n",
       "    }\n",
       "\n",
       "    .dataframe tbody tr th {\n",
       "        vertical-align: top;\n",
       "    }\n",
       "\n",
       "    .dataframe thead th {\n",
       "        text-align: right;\n",
       "    }\n",
       "</style>\n",
       "<table border=\"1\" class=\"dataframe\">\n",
       "  <thead>\n",
       "    <tr style=\"text-align: right;\">\n",
       "      <th></th>\n",
       "      <th>category</th>\n",
       "      <th>rating</th>\n",
       "      <th>label</th>\n",
       "      <th>text_</th>\n",
       "    </tr>\n",
       "  </thead>\n",
       "  <tbody>\n",
       "    <tr>\n",
       "      <th>0</th>\n",
       "      <td>Home_and_Kitchen_5</td>\n",
       "      <td>5.0</td>\n",
       "      <td>CG</td>\n",
       "      <td>Love this!  Well made, sturdy, and very comfor...</td>\n",
       "    </tr>\n",
       "    <tr>\n",
       "      <th>1</th>\n",
       "      <td>Home_and_Kitchen_5</td>\n",
       "      <td>5.0</td>\n",
       "      <td>CG</td>\n",
       "      <td>love it, a great upgrade from the original.  I...</td>\n",
       "    </tr>\n",
       "    <tr>\n",
       "      <th>2</th>\n",
       "      <td>Home_and_Kitchen_5</td>\n",
       "      <td>5.0</td>\n",
       "      <td>CG</td>\n",
       "      <td>This pillow saved my back. I love the look and...</td>\n",
       "    </tr>\n",
       "    <tr>\n",
       "      <th>3</th>\n",
       "      <td>Home_and_Kitchen_5</td>\n",
       "      <td>1.0</td>\n",
       "      <td>CG</td>\n",
       "      <td>Missing information on how to use it, but it i...</td>\n",
       "    </tr>\n",
       "    <tr>\n",
       "      <th>4</th>\n",
       "      <td>Home_and_Kitchen_5</td>\n",
       "      <td>5.0</td>\n",
       "      <td>CG</td>\n",
       "      <td>Very nice set. Good quality. We have had the s...</td>\n",
       "    </tr>\n",
       "  </tbody>\n",
       "</table>\n",
       "</div>"
      ],
      "text/plain": [
       "             category  rating label  \\\n",
       "0  Home_and_Kitchen_5     5.0    CG   \n",
       "1  Home_and_Kitchen_5     5.0    CG   \n",
       "2  Home_and_Kitchen_5     5.0    CG   \n",
       "3  Home_and_Kitchen_5     1.0    CG   \n",
       "4  Home_and_Kitchen_5     5.0    CG   \n",
       "\n",
       "                                               text_  \n",
       "0  Love this!  Well made, sturdy, and very comfor...  \n",
       "1  love it, a great upgrade from the original.  I...  \n",
       "2  This pillow saved my back. I love the look and...  \n",
       "3  Missing information on how to use it, but it i...  \n",
       "4  Very nice set. Good quality. We have had the s...  "
      ]
     },
     "execution_count": 23,
     "metadata": {},
     "output_type": "execute_result"
    }
   ],
   "source": [
    "data.head()"
   ]
  },
  {
   "cell_type": "code",
   "execution_count": 24,
   "id": "09a25ca3",
   "metadata": {},
   "outputs": [
    {
     "data": {
      "image/png": "[encoded data removed]",
      "text/plain": [
       "<Figure size 432x288 with 1 Axes>"
      ]
     },
     "metadata": {
      "needs_background": "light"
     },
     "output_type": "display_data"
    }
   ],
   "source": [
    "import seaborn as sns\n",
    "import matplotlib.pyplot as plt\n",
    "\n",
    "# Add a column for the length of each text\n",
    "data['length'] = data['text_'].apply(len)\n",
    "\n",
    "# Create a box plot to show the distribution of text length by label\n",
    "sns.boxplot(x='label', y='length', data=data)\n",
    "plt.title('Distribution of Text Length by Label')\n",
    "plt.xlabel('Label')\n",
    "plt.ylabel('Length')\n",
    "plt.show()\n",
    "\n"
   ]
  },
  {
   "cell_type": "code",
   "execution_count": 25,
   "id": "1f1032d8",
   "metadata": {},
   "outputs": [
    {
     "data": {
      "text/plain": [
       "0          75\n",
       "1          80\n",
       "2          67\n",
       "3          81\n",
       "4          85\n",
       "         ... \n",
       "40427    1694\n",
       "40428    1304\n",
       "40429    1987\n",
       "40430    1301\n",
       "40431    1768\n",
       "Name: length, Length: 40432, dtype: int64"
      ]
     },
     "execution_count": 25,
     "metadata": {},
     "output_type": "execute_result"
    }
   ],
   "source": [
    "data['length']"
   ]
  },
  {
   "cell_type": "code",
   "execution_count": 26,
   "id": "cdd2e242",
   "metadata": {},
   "outputs": [
    {
     "data": {
      "image/png": "[encoded data removed]",
      "text/plain": [
       "<Figure size 432x288 with 1 Axes>"
      ]
     },
     "metadata": {
      "needs_background": "light"
     },
     "output_type": "display_data"
    }
   ],
   "source": [
    "data['length'] = data['text_'].apply(len)\n",
    "# Create a histogram of text length\n",
    "sns.histplot(data=data, x='length', kde=True)\n",
    "plt.title('Distribution of Text Length')\n",
    "plt.xlabel('Length')\n",
    "plt.show()\n"
   ]
  },
  {
   "cell_type": "code",
   "execution_count": 27,
   "id": "bf44ca66",
   "metadata": {},
   "outputs": [],
   "source": [
    "import re\n",
    "import string\n",
    "\n",
    "def preprocess_text(text):\n",
    "    # Convert text to lowercase\n",
    "    text = text.lower()\n",
    "    \n",
    "    # Remove digits and punctuation\n",
    "    text = re.sub('[^a-z\\s]+', '', text)\n",
    "    \n",
    "    # Remove extra spaces\n",
    "    text = re.sub('\\s+', ' ', text)\n",
    "    \n",
    "    return text\n"
   ]
  },
  {
   "cell_type": "code",
   "execution_count": 28,
   "id": "43c715af",
   "metadata": {},
   "outputs": [],
   "source": [
    "import pandas as pd\n",
    "import numpy as np\n",
    "\n",
    "# Generate 40432 rows of random purchasing history data\n",
    "user_ids = np.random.randint(10000, size=40432)\n",
    "product_ids = np.random.randint(1000, size=40432)\n",
    "purchasing_history = pd.DataFrame({'user_id': user_ids, 'product_id': product_ids})\n",
    "\n",
    "# Save purchasing history data to CSV file\n",
    "purchasing_history.to_csv('purchasing_history.csv', index=False)\n"
   ]
  },
  {
   "cell_type": "code",
   "execution_count": null,
   "id": "97d13ee3",
   "metadata": {},
   "outputs": [],
   "source": []
  },
  {
   "cell_type": "code",
   "execution_count": 29,
   "id": "eed15a21",
   "metadata": {},
   "outputs": [
    {
     "data": {
      "text/plain": [
       "(40432, 2)"
      ]
     },
     "execution_count": 29,
     "metadata": {},
     "output_type": "execute_result"
    }
   ],
   "source": [
    "# Load purchasing history data from CSV file into pandas DataFrame\n",
    "df = pd.read_csv('purchasing_history.csv')\n",
    "df.shape"
   ]
  },
  {
   "cell_type": "code",
   "execution_count": 30,
   "id": "eb3a435b",
   "metadata": {},
   "outputs": [
    {
     "data": {
      "text/html": [
       "<div>\n",
       "<style scoped>\n",
       "    .dataframe tbody tr th:only-of-type {\n",
       "        vertical-align: middle;\n",
       "    }\n",
       "\n",
       "    .dataframe tbody tr th {\n",
       "        vertical-align: top;\n",
       "    }\n",
       "\n",
       "    .dataframe thead th {\n",
       "        text-align: right;\n",
       "    }\n",
       "</style>\n",
       "<table border=\"1\" class=\"dataframe\">\n",
       "  <thead>\n",
       "    <tr style=\"text-align: right;\">\n",
       "      <th></th>\n",
       "      <th>user_id</th>\n",
       "      <th>product_id</th>\n",
       "    </tr>\n",
       "  </thead>\n",
       "  <tbody>\n",
       "    <tr>\n",
       "      <th>0</th>\n",
       "      <td>6093</td>\n",
       "      <td>690</td>\n",
       "    </tr>\n",
       "    <tr>\n",
       "      <th>1</th>\n",
       "      <td>1172</td>\n",
       "      <td>709</td>\n",
       "    </tr>\n",
       "    <tr>\n",
       "      <th>2</th>\n",
       "      <td>5253</td>\n",
       "      <td>582</td>\n",
       "    </tr>\n",
       "    <tr>\n",
       "      <th>3</th>\n",
       "      <td>4021</td>\n",
       "      <td>782</td>\n",
       "    </tr>\n",
       "    <tr>\n",
       "      <th>4</th>\n",
       "      <td>6486</td>\n",
       "      <td>878</td>\n",
       "    </tr>\n",
       "  </tbody>\n",
       "</table>\n",
       "</div>"
      ],
      "text/plain": [
       "   user_id  product_id\n",
       "0     6093         690\n",
       "1     1172         709\n",
       "2     5253         582\n",
       "3     4021         782\n",
       "4     6486         878"
      ]
     },
     "execution_count": 30,
     "metadata": {},
     "output_type": "execute_result"
    }
   ],
   "source": [
    "df.head()"
   ]
  },
  {
   "cell_type": "code",
   "execution_count": 31,
   "id": "be9b0eb6",
   "metadata": {},
   "outputs": [],
   "source": [
    "# Load fake review data from CSV file into pandas DataFrame\n",
    "fake_reviews = pd.read_csv('fake reviews dataset.csv')\n",
    "\n",
    "# Preprocess text data\n",
    "fake_reviews['text_'] = fake_reviews['text_'].apply(preprocess_text)\n",
    "\n",
    "# Load purchasing history data from CSV file into pandas DataFrame\n",
    "purchasing_history = pd.read_csv('purchasing_history.csv')\n",
    "\n",
    "fake_reviews['user_id'] = purchasing_history['user_id']\n",
    "\n",
    "\n",
    "# Aggregate purchasing history by user ID\n",
    "user_purchases = purchasing_history.groupby('user_id').agg({'product_id': 'count'}).reset_index()\n",
    "user_purchases = user_purchases.rename(columns={'product_id': 'num_purchases'})\n",
    "\n",
    "# Merge purchasing history data with fake review data\n",
    "fake_reviews = pd.merge(fake_reviews, user_purchases, on='user_id', how='left')\n",
    "\n",
    "# Extract feature vector for each review\n",
    "features = fake_reviews[['category', 'label', 'rating', 'text_', 'num_purchases']]\n"
   ]
  },
  {
   "cell_type": "code",
   "execution_count": 32,
   "id": "4cf91070",
   "metadata": {},
   "outputs": [
    {
     "data": {
      "text/html": [
       "<div>\n",
       "<style scoped>\n",
       "    .dataframe tbody tr th:only-of-type {\n",
       "        vertical-align: middle;\n",
       "    }\n",
       "\n",
       "    .dataframe tbody tr th {\n",
       "        vertical-align: top;\n",
       "    }\n",
       "\n",
       "    .dataframe thead th {\n",
       "        text-align: right;\n",
       "    }\n",
       "</style>\n",
       "<table border=\"1\" class=\"dataframe\">\n",
       "  <thead>\n",
       "    <tr style=\"text-align: right;\">\n",
       "      <th></th>\n",
       "      <th>category</th>\n",
       "      <th>label</th>\n",
       "      <th>rating</th>\n",
       "      <th>text_</th>\n",
       "      <th>num_purchases</th>\n",
       "    </tr>\n",
       "  </thead>\n",
       "  <tbody>\n",
       "    <tr>\n",
       "      <th>0</th>\n",
       "      <td>Home_and_Kitchen_5</td>\n",
       "      <td>CG</td>\n",
       "      <td>5.0</td>\n",
       "      <td>love this well made sturdy and very comfortabl...</td>\n",
       "      <td>5</td>\n",
       "    </tr>\n",
       "    <tr>\n",
       "      <th>1</th>\n",
       "      <td>Home_and_Kitchen_5</td>\n",
       "      <td>CG</td>\n",
       "      <td>5.0</td>\n",
       "      <td>love it a great upgrade from the original ive ...</td>\n",
       "      <td>5</td>\n",
       "    </tr>\n",
       "    <tr>\n",
       "      <th>2</th>\n",
       "      <td>Home_and_Kitchen_5</td>\n",
       "      <td>CG</td>\n",
       "      <td>5.0</td>\n",
       "      <td>this pillow saved my back i love the look and ...</td>\n",
       "      <td>7</td>\n",
       "    </tr>\n",
       "    <tr>\n",
       "      <th>3</th>\n",
       "      <td>Home_and_Kitchen_5</td>\n",
       "      <td>CG</td>\n",
       "      <td>1.0</td>\n",
       "      <td>missing information on how to use it but it is...</td>\n",
       "      <td>4</td>\n",
       "    </tr>\n",
       "    <tr>\n",
       "      <th>4</th>\n",
       "      <td>Home_and_Kitchen_5</td>\n",
       "      <td>CG</td>\n",
       "      <td>5.0</td>\n",
       "      <td>very nice set good quality we have had the set...</td>\n",
       "      <td>5</td>\n",
       "    </tr>\n",
       "    <tr>\n",
       "      <th>...</th>\n",
       "      <td>...</td>\n",
       "      <td>...</td>\n",
       "      <td>...</td>\n",
       "      <td>...</td>\n",
       "      <td>...</td>\n",
       "    </tr>\n",
       "    <tr>\n",
       "      <th>40427</th>\n",
       "      <td>Clothing_Shoes_and_Jewelry_5</td>\n",
       "      <td>OR</td>\n",
       "      <td>4.0</td>\n",
       "      <td>i had read some reviews saying that this bra r...</td>\n",
       "      <td>5</td>\n",
       "    </tr>\n",
       "    <tr>\n",
       "      <th>40428</th>\n",
       "      <td>Clothing_Shoes_and_Jewelry_5</td>\n",
       "      <td>CG</td>\n",
       "      <td>5.0</td>\n",
       "      <td>i wasnt sure exactly what it would be it is a ...</td>\n",
       "      <td>1</td>\n",
       "    </tr>\n",
       "    <tr>\n",
       "      <th>40429</th>\n",
       "      <td>Clothing_Shoes_and_Jewelry_5</td>\n",
       "      <td>OR</td>\n",
       "      <td>2.0</td>\n",
       "      <td>you can wear the hood by itself wear it with t...</td>\n",
       "      <td>2</td>\n",
       "    </tr>\n",
       "    <tr>\n",
       "      <th>40430</th>\n",
       "      <td>Clothing_Shoes_and_Jewelry_5</td>\n",
       "      <td>CG</td>\n",
       "      <td>1.0</td>\n",
       "      <td>i liked nothing about this dress the only reas...</td>\n",
       "      <td>6</td>\n",
       "    </tr>\n",
       "    <tr>\n",
       "      <th>40431</th>\n",
       "      <td>Clothing_Shoes_and_Jewelry_5</td>\n",
       "      <td>OR</td>\n",
       "      <td>5.0</td>\n",
       "      <td>i work in the wedding industry and have to wor...</td>\n",
       "      <td>4</td>\n",
       "    </tr>\n",
       "  </tbody>\n",
       "</table>\n",
       "<p>40432 rows × 5 columns</p>\n",
       "</div>"
      ],
      "text/plain": [
       "                           category label  rating  \\\n",
       "0                Home_and_Kitchen_5    CG     5.0   \n",
       "1                Home_and_Kitchen_5    CG     5.0   \n",
       "2                Home_and_Kitchen_5    CG     5.0   \n",
       "3                Home_and_Kitchen_5    CG     1.0   \n",
       "4                Home_and_Kitchen_5    CG     5.0   \n",
       "...                             ...   ...     ...   \n",
       "40427  Clothing_Shoes_and_Jewelry_5    OR     4.0   \n",
       "40428  Clothing_Shoes_and_Jewelry_5    CG     5.0   \n",
       "40429  Clothing_Shoes_and_Jewelry_5    OR     2.0   \n",
       "40430  Clothing_Shoes_and_Jewelry_5    CG     1.0   \n",
       "40431  Clothing_Shoes_and_Jewelry_5    OR     5.0   \n",
       "\n",
       "                                                   text_  num_purchases  \n",
       "0      love this well made sturdy and very comfortabl...              5  \n",
       "1      love it a great upgrade from the original ive ...              5  \n",
       "2      this pillow saved my back i love the look and ...              7  \n",
       "3      missing information on how to use it but it is...              4  \n",
       "4      very nice set good quality we have had the set...              5  \n",
       "...                                                  ...            ...  \n",
       "40427  i had read some reviews saying that this bra r...              5  \n",
       "40428  i wasnt sure exactly what it would be it is a ...              1  \n",
       "40429  you can wear the hood by itself wear it with t...              2  \n",
       "40430  i liked nothing about this dress the only reas...              6  \n",
       "40431  i work in the wedding industry and have to wor...              4  \n",
       "\n",
       "[40432 rows x 5 columns]"
      ]
     },
     "execution_count": 32,
     "metadata": {},
     "output_type": "execute_result"
    }
   ],
   "source": [
    "features"
   ]
  },
  {
   "cell_type": "code",
   "execution_count": 33,
   "id": "2b3aa362",
   "metadata": {},
   "outputs": [
    {
     "data": {
      "text/html": [
       "<div>\n",
       "<style scoped>\n",
       "    .dataframe tbody tr th:only-of-type {\n",
       "        vertical-align: middle;\n",
       "    }\n",
       "\n",
       "    .dataframe tbody tr th {\n",
       "        vertical-align: top;\n",
       "    }\n",
       "\n",
       "    .dataframe thead th {\n",
       "        text-align: right;\n",
       "    }\n",
       "</style>\n",
       "<table border=\"1\" class=\"dataframe\">\n",
       "  <thead>\n",
       "    <tr style=\"text-align: right;\">\n",
       "      <th></th>\n",
       "      <th>category</th>\n",
       "      <th>rating</th>\n",
       "      <th>label</th>\n",
       "      <th>text_</th>\n",
       "      <th>length</th>\n",
       "    </tr>\n",
       "  </thead>\n",
       "  <tbody>\n",
       "    <tr>\n",
       "      <th>0</th>\n",
       "      <td>Home_and_Kitchen_5</td>\n",
       "      <td>5.0</td>\n",
       "      <td>CG</td>\n",
       "      <td>Love this!  Well made, sturdy, and very comfor...</td>\n",
       "      <td>75</td>\n",
       "    </tr>\n",
       "    <tr>\n",
       "      <th>1</th>\n",
       "      <td>Home_and_Kitchen_5</td>\n",
       "      <td>5.0</td>\n",
       "      <td>CG</td>\n",
       "      <td>love it, a great upgrade from the original.  I...</td>\n",
       "      <td>80</td>\n",
       "    </tr>\n",
       "    <tr>\n",
       "      <th>2</th>\n",
       "      <td>Home_and_Kitchen_5</td>\n",
       "      <td>5.0</td>\n",
       "      <td>CG</td>\n",
       "      <td>This pillow saved my back. I love the look and...</td>\n",
       "      <td>67</td>\n",
       "    </tr>\n",
       "    <tr>\n",
       "      <th>3</th>\n",
       "      <td>Home_and_Kitchen_5</td>\n",
       "      <td>1.0</td>\n",
       "      <td>CG</td>\n",
       "      <td>Missing information on how to use it, but it i...</td>\n",
       "      <td>81</td>\n",
       "    </tr>\n",
       "    <tr>\n",
       "      <th>4</th>\n",
       "      <td>Home_and_Kitchen_5</td>\n",
       "      <td>5.0</td>\n",
       "      <td>CG</td>\n",
       "      <td>Very nice set. Good quality. We have had the s...</td>\n",
       "      <td>85</td>\n",
       "    </tr>\n",
       "  </tbody>\n",
       "</table>\n",
       "</div>"
      ],
      "text/plain": [
       "             category  rating label  \\\n",
       "0  Home_and_Kitchen_5     5.0    CG   \n",
       "1  Home_and_Kitchen_5     5.0    CG   \n",
       "2  Home_and_Kitchen_5     5.0    CG   \n",
       "3  Home_and_Kitchen_5     1.0    CG   \n",
       "4  Home_and_Kitchen_5     5.0    CG   \n",
       "\n",
       "                                               text_  length  \n",
       "0  Love this!  Well made, sturdy, and very comfor...      75  \n",
       "1  love it, a great upgrade from the original.  I...      80  \n",
       "2  This pillow saved my back. I love the look and...      67  \n",
       "3  Missing information on how to use it, but it i...      81  \n",
       "4  Very nice set. Good quality. We have had the s...      85  "
      ]
     },
     "execution_count": 33,
     "metadata": {},
     "output_type": "execute_result"
    }
   ],
   "source": [
    "data.head()"
   ]
  },
  {
   "cell_type": "code",
   "execution_count": 34,
   "id": "3a294eef",
   "metadata": {},
   "outputs": [
    {
     "name": "stdout",
     "output_type": "stream",
     "text": [
      "This is a fake review.\n"
     ]
    }
   ],
   "source": [
    "def is_review_genuine(review_text, user_id, purchasing_history):\n",
    "    \"\"\"\n",
    "    Check if a review is genuine based on the user's purchasing history.\n",
    "\n",
    "    Args:\n",
    "        review_text (str): The text of the review.\n",
    "        user_id (int): The ID of the user who wrote the review.\n",
    "        purchasing_history (pandas.DataFrame): A DataFrame containing the user's purchasing history.\n",
    "\n",
    "    Returns:\n",
    "        bool: True if the review is genuine, False otherwise.\n",
    "    \"\"\"\n",
    "    # Check if the review text appears in the user's purchasing history\n",
    "    if review_text.lower() in purchasing_history[purchasing_history['user_id'] == user_id]['product_id'].astype(str).str.lower().tolist():\n",
    "        return True\n",
    "    else:\n",
    "        return False\n",
    "review_text = \"Missing information on how to use it, but it is a great product for the price!  I\"\n",
    "user_id = 1610\n",
    "\n",
    "if is_review_genuine(review_text, user_id,purchasing_history):\n",
    "    print(\"This is a genuine review.\")\n",
    "else:\n",
    "    print(\"This is a fake review.\")\n"
   ]
  },
  {
   "cell_type": "code",
   "execution_count": 35,
   "id": "cac3fb73",
   "metadata": {},
   "outputs": [
    {
     "name": "stdout",
     "output_type": "stream",
     "text": [
      "This is a fake review.\n",
      "This is a fake review.\n",
      "This is a fake review.\n"
     ]
    }
   ],
   "source": [
    "import pandas as pd\n",
    "\n",
    "def is_review_genuine(review_text, user_id, purchasing_history):\n",
    "    \"\"\"\n",
    "    Check if a review is genuine based on the user's purchasing history.\n",
    "\n",
    "    Args:\n",
    "        review_text (str): The text of the review.\n",
    "        user_id (int): The ID of the user who wrote the review.\n",
    "        purchasing_history (pandas.DataFrame): A DataFrame containing the user's purchasing history.\n",
    "\n",
    "    Returns:\n",
    "        bool: True if the review is genuine, False otherwise.\n",
    "    \"\"\"\n",
    "    # Check if the user has any purchasing history\n",
    "    if user_id not in purchasing_history['user_id'].tolist():\n",
    "        return False\n",
    "    else:\n",
    "        # Check if the review text appears in the user's purchasing history\n",
    "        if review_text.lower() in purchasing_history[purchasing_history['user_id'] == user_id]['product_id'].astype(str).str.lower().tolist():\n",
    "            return True\n",
    "        else:\n",
    "            # Check if the product_id of the review exists in the user's purchasing history\n",
    "            def get_product_id(text):\n",
    "                # Implementation of function to extract product id from review text\n",
    "                # This can be replaced with actual implementation\n",
    "                return None\n",
    "            product_id = get_product_id(review_text)\n",
    "            if product_id is not None and product_id.lower() in purchasing_history[purchasing_history['user_id'] == user_id]['product_id'].astype(str).str.lower().tolist():\n",
    "                return True\n",
    "            else:\n",
    "                return False\n",
    "\n",
    "# Sample usage\n",
    "purchasing_history = pd.DataFrame({'user_id': [4444, 2222, 1111], 'product_id': ['A123', 'B456', 'C789']})\n",
    "\n",
    "review_text = \"I love this product! It's amazing.\"\n",
    "user_id = 12345\n",
    "\n",
    "if is_review_genuine(review_text, user_id, purchasing_history):\n",
    "    print(\"This is a genuine review.\")\n",
    "else:\n",
    "    print(\"This is a fake review.\")\n",
    "    \n",
    "review_text = \"Love this!  Well made, sturdy, and very comfortable.  I love it!Very pretty!\"\n",
    "user_id = 9195\n",
    "\n",
    "if is_review_genuine(review_text, user_id, purchasing_history):\n",
    "    print(\"This is a genuine review.\")\n",
    "else:\n",
    "    print(\"This is a fake review.\")\n",
    "    \n",
    "review_text = \"love it, a great upgrade from the original.  I've had mine for a couple of years\"\n",
    "user_id = 8698\n",
    "\n",
    "if is_review_genuine(review_text, user_id, purchasing_history):\n",
    "    print(\"This is a genuine review.\")\n",
    "else:\n",
    "    print(\"This is a fake review.\")\n"
   ]
  },
  {
   "cell_type": "code",
   "execution_count": 36,
   "id": "319dff7e",
   "metadata": {},
   "outputs": [
    {
     "data": {
      "text/html": [
       "<div>\n",
       "<style scoped>\n",
       "    .dataframe tbody tr th:only-of-type {\n",
       "        vertical-align: middle;\n",
       "    }\n",
       "\n",
       "    .dataframe tbody tr th {\n",
       "        vertical-align: top;\n",
       "    }\n",
       "\n",
       "    .dataframe thead th {\n",
       "        text-align: right;\n",
       "    }\n",
       "</style>\n",
       "<table border=\"1\" class=\"dataframe\">\n",
       "  <thead>\n",
       "    <tr style=\"text-align: right;\">\n",
       "      <th></th>\n",
       "      <th>user_id</th>\n",
       "      <th>product_id</th>\n",
       "    </tr>\n",
       "  </thead>\n",
       "  <tbody>\n",
       "    <tr>\n",
       "      <th>0</th>\n",
       "      <td>6093</td>\n",
       "      <td>690</td>\n",
       "    </tr>\n",
       "    <tr>\n",
       "      <th>1</th>\n",
       "      <td>1172</td>\n",
       "      <td>709</td>\n",
       "    </tr>\n",
       "    <tr>\n",
       "      <th>2</th>\n",
       "      <td>5253</td>\n",
       "      <td>582</td>\n",
       "    </tr>\n",
       "    <tr>\n",
       "      <th>3</th>\n",
       "      <td>4021</td>\n",
       "      <td>782</td>\n",
       "    </tr>\n",
       "    <tr>\n",
       "      <th>4</th>\n",
       "      <td>6486</td>\n",
       "      <td>878</td>\n",
       "    </tr>\n",
       "    <tr>\n",
       "      <th>...</th>\n",
       "      <td>...</td>\n",
       "      <td>...</td>\n",
       "    </tr>\n",
       "    <tr>\n",
       "      <th>40427</th>\n",
       "      <td>8282</td>\n",
       "      <td>408</td>\n",
       "    </tr>\n",
       "    <tr>\n",
       "      <th>40428</th>\n",
       "      <td>9202</td>\n",
       "      <td>574</td>\n",
       "    </tr>\n",
       "    <tr>\n",
       "      <th>40429</th>\n",
       "      <td>4243</td>\n",
       "      <td>268</td>\n",
       "    </tr>\n",
       "    <tr>\n",
       "      <th>40430</th>\n",
       "      <td>7966</td>\n",
       "      <td>192</td>\n",
       "    </tr>\n",
       "    <tr>\n",
       "      <th>40431</th>\n",
       "      <td>4116</td>\n",
       "      <td>697</td>\n",
       "    </tr>\n",
       "  </tbody>\n",
       "</table>\n",
       "<p>40432 rows × 2 columns</p>\n",
       "</div>"
      ],
      "text/plain": [
       "       user_id  product_id\n",
       "0         6093         690\n",
       "1         1172         709\n",
       "2         5253         582\n",
       "3         4021         782\n",
       "4         6486         878\n",
       "...        ...         ...\n",
       "40427     8282         408\n",
       "40428     9202         574\n",
       "40429     4243         268\n",
       "40430     7966         192\n",
       "40431     4116         697\n",
       "\n",
       "[40432 rows x 2 columns]"
      ]
     },
     "execution_count": 36,
     "metadata": {},
     "output_type": "execute_result"
    }
   ],
   "source": [
    "df"
   ]
  },
  {
   "cell_type": "code",
   "execution_count": null,
   "id": "ae4fc8f8",
   "metadata": {},
   "outputs": [],
   "source": []
  }
 ],
 "metadata": {
  "kernelspec": {
   "display_name": "Python 3",
   "language": "python",
   "name": "python3"
  },
  "language_info": {
   "codemirror_mode": {
    "name": "ipython",
    "version": 3
   },
   "file_extension": ".py",
   "mimetype": "text/x-python",
   "name": "python",
   "nbconvert_exporter": "python",
   "pygments_lexer": "ipython3",
   "version": "3.8.8"
  }
 },
 "nbformat": 4,
 "nbformat_minor": 5
}
